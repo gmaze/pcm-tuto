{
 "cells": [
  {
   "cell_type": "markdown",
   "metadata": {},
   "source": [
    "# Example show casing a PCM analysis in the Southern Ocean with Argo data\n",
    "\n",
    "This is using the [pyXpcm](https://pyxpcm.readthedocs.io) library and pre-processed Argo cloud data\n",
    "\n",
    "Author: [Guillaume Maze](http://github.com/gmaze)\n",
    "\n",
    "Data prepared by:  \n",
    "<div>\n",
    "<img src=\"https://www.umr-lops.fr/var/storage/images/_aliases/logo_main/medias-ifremer/medias-lops/logos/logo-lops-2/1459683-4-fre-FR/Logo-LOPS-2.png\" height=\"100\"/>\n",
    "and <img src=\"http://www.argo-france.fr/wp-content/uploads/2019/10/Argo-logo_banner-color.png\" width=\"300\"/>\n",
    "</div>"
   ]
  },
  {
   "cell_type": "markdown",
   "metadata": {
    "toc-hr-collapsed": true
   },
   "source": [
    "# Set-up"
   ]
  },
  {
   "cell_type": "markdown",
   "metadata": {},
   "source": [
    "## Install pyXpcm\n",
    "When ran on binder, this should have been done automatically"
   ]
  },
  {
   "cell_type": "code",
   "execution_count": null,
   "metadata": {},
   "outputs": [],
   "source": [
    "# !pip install git+http://github.com/obidam/pyxpcm.git"
   ]
  },
  {
   "cell_type": "code",
   "execution_count": null,
   "metadata": {},
   "outputs": [],
   "source": [
    "# Then test the import\n",
    "import pyxpcm\n",
    "print(\"pyxpcm: %s, %s\" % (pyxpcm.__version__, pyxpcm.__file__))"
   ]
  },
  {
   "cell_type": "markdown",
   "metadata": {},
   "source": [
    "## Other import"
   ]
  },
  {
   "cell_type": "code",
   "execution_count": null,
   "metadata": {},
   "outputs": [],
   "source": [
    "import os\n",
    "import numpy as np\n",
    "import xarray as xr\n",
    "import intake"
   ]
  },
  {
   "cell_type": "code",
   "execution_count": null,
   "metadata": {},
   "outputs": [],
   "source": [
    "# Imports for plotting:\n",
    "import matplotlib as mpl\n",
    "import matplotlib.pyplot as plt\n",
    "import cartopy.crs as ccrs\n",
    "import cartopy.feature as cfeature\n",
    "import seaborn as sns # Not mandatory, but create nicer figures\n",
    "\n",
    "def orsi_fronts(ax, transform=None, colors='k'*20, **args):\n",
    "    orsi = pyxpcm.tutorial.open_dataset('orsi').load()\n",
    "    hl = list()\n",
    "    for ii, front in enumerate(orsi.data_vars):\n",
    "        path = orsi[front].dropna(dim='point')\n",
    "        default_opts = {'color': colors[ii], 'linewidth':1, 'transform': transform}\n",
    "        opts = {**default_opts, **args}\n",
    "        hl.append(ax.plot(path[0,:], path[1,:], label=path.attrs['long_name'], **opts))\n",
    "    return hl"
   ]
  },
  {
   "cell_type": "markdown",
   "metadata": {},
   "source": [
    "# Load Argo data from the cloud\n",
    "\n",
    "This is a global subset of Argo data with profiles interpolated onto standard depth levels and uniformaly distributed in space."
   ]
  },
  {
   "cell_type": "code",
   "execution_count": null,
   "metadata": {},
   "outputs": [],
   "source": [
    "# Open catalogue:\n",
    "catalog_url = 'https://raw.githubusercontent.com/obidam/pyxpcm-examples/pyxpcm_data_catalog.yml'\n",
    "cat = intake.Catalog(catalog_url)\n",
    "\n",
    "# Load data (lazily):\n",
    "ds = cat.argo_global.read_chunked()\n",
    "ds"
   ]
  },
  {
   "cell_type": "markdown",
   "metadata": {},
   "source": [
    "## Sub-sample to a given region: Southern Ocean"
   ]
  },
  {
   "cell_type": "code",
   "execution_count": null,
   "metadata": {},
   "outputs": [],
   "source": [
    "ds = ds.where(ds['LATITUDE']<=-20, drop=True)\n",
    "ds.load()\n",
    "ds"
   ]
  },
  {
   "cell_type": "code",
   "execution_count": null,
   "metadata": {},
   "outputs": [],
   "source": [
    "proj = ccrs.PlateCarree(central_longitude=360-60-180)\n",
    "projref = ccrs.PlateCarree()\n",
    "subplot_kw={'projection': proj, 'extent': np.array([-180,180,-70,-15]) + np.array([-0.1,+0.1,-0.1,+0.1])}\n",
    "fig, ax = plt.subplots(nrows=1, ncols=1, figsize=(10,5), dpi=120, facecolor='w', edgecolor='k', subplot_kw=subplot_kw)\n",
    "ax.plot(ds['LONGITUDE'], ds['LATITUDE'], '.', transform=projref, markersize=1)\n",
    "ax.set_aspect(2)\n",
    "ax.set_extent([-180, 180, -80, -10], projref)\n",
    "gl = pyxpcm.plot.latlongrid(ax, dx=30, dy=20)\n",
    "ax.add_feature(cfeature.LAND)\n",
    "ax.add_feature(cfeature.COASTLINE)\n",
    "ax.set_title('Argo data coverage in the selected region')\n",
    "plt.show()"
   ]
  },
  {
   "cell_type": "code",
   "execution_count": null,
   "metadata": {},
   "outputs": [],
   "source": []
  },
  {
   "cell_type": "markdown",
   "metadata": {},
   "source": [
    "# PCM analysis"
   ]
  },
  {
   "cell_type": "markdown",
   "metadata": {},
   "source": [
    "## Define PCM parameters"
   ]
  },
  {
   "cell_type": "code",
   "execution_count": null,
   "metadata": {},
   "outputs": [],
   "source": [
    "# 1/ Features, Define ocean features to classify\n",
    "\n",
    "# Vertical axis to use:\n",
    "z = ds['DEPTH'].values\n",
    "\n",
    "# Dictionnary of feature names with vertical axis:\n",
    "# pcm_features = {'TEMP': z} # Single feature analysis\n",
    "pcm_features = {'TEMP': z, 'PSAL':z} # Multi-feature analysis\n",
    "\n",
    "# 2/ Nb of class, Define how many classes we want\n",
    "N_CLASS = 8"
   ]
  },
  {
   "cell_type": "code",
   "execution_count": null,
   "metadata": {},
   "outputs": [],
   "source": [
    "# Create the classification model\n",
    "from pyxpcm.models import pcm\n",
    "\n",
    "# Instantiate a PCM:\n",
    "m = pcm(K=N_CLASS, features=pcm_features, backend='sklearn')\n",
    "m"
   ]
  },
  {
   "cell_type": "markdown",
   "metadata": {},
   "source": [
    "## Fit/predict classes"
   ]
  },
  {
   "cell_type": "code",
   "execution_count": null,
   "metadata": {},
   "outputs": [],
   "source": [
    "%%time\n",
    "m.fit_predict(ds, inplace=True)"
   ]
  },
  {
   "cell_type": "code",
   "execution_count": null,
   "metadata": {},
   "outputs": [],
   "source": [
    "# Save the model on file:\n",
    "filename = \"Southern_Ocean_Argo_K%i_%s.nc\" % (m.K, \"_\".join([f for f in m.features.keys()]),  )\n",
    "m.to_netcdf(filename)"
   ]
  },
  {
   "cell_type": "code",
   "execution_count": null,
   "metadata": {},
   "outputs": [],
   "source": [
    "m.predict_proba(ds, inplace=True)"
   ]
  },
  {
   "cell_type": "code",
   "execution_count": null,
   "metadata": {},
   "outputs": [],
   "source": [
    "ds.pyxpcm.robustness(m, inplace=True)\n",
    "ds.pyxpcm.robustness_digit(m, inplace=True)\n",
    "ds"
   ]
  },
  {
   "cell_type": "markdown",
   "metadata": {},
   "source": [
    "## Map of classes"
   ]
  },
  {
   "cell_type": "code",
   "execution_count": null,
   "metadata": {},
   "outputs": [],
   "source": [
    "proj = ccrs.PlateCarree(central_longitude=360-60-180)\n",
    "projref =  ccrs.PlateCarree()\n",
    "subplot_kw={'projection': proj, 'extent': np.array([-180,180,-70,-15]) + np.array([-0.1,+0.1,-0.1,+0.1])}\n",
    "fig, ax = plt.subplots(nrows=1, ncols=1, figsize=(10,5), dpi=120, facecolor='w', edgecolor='k', subplot_kw=subplot_kw)\n",
    "\n",
    "kmap = m.plot.cmap(name='Set1')\n",
    "sc = ax.scatter(ds['LONGITUDE'], ds['LATITUDE'], s=1, c=ds['PCM_LABELS'], cmap=kmap, transform=projref, vmin=0, vmax=m.K)\n",
    "pyxpcm.plot.colorbar_index(ncolors=m.K, name='Set1', **{**{'fraction':0.015, 'label':'Class'}})\n",
    "\n",
    "orsi_fronts(ax=ax, transform=projref)\n",
    "ax.set_aspect(2)\n",
    "ax.set_extent([-180, 180, -80, -10], projref)\n",
    "gl = pyxpcm.plot.latlongrid(ax, dx=30, dy=20)\n",
    "ax.add_feature(cfeature.LAND)\n",
    "ax.add_feature(cfeature.COASTLINE)\n",
    "ax.set_title( \"LABELS from Argo data classification\\n Based on PCM(K=%i, F=[%s])\" %\n",
    "             (m.K, \",\".join([f for f in m.features.keys()])))\n",
    "plt.show()"
   ]
  },
  {
   "cell_type": "markdown",
   "metadata": {},
   "source": [
    "This result using K=8 can be compared to Jones et al (2019) analysis based on temperature only data:\n",
    "\n",
    "<div>\n",
    "<img src=\"https://agupubs.onlinelibrary.wiley.com/cms/attachment/625b6ebb-7983-4d03-900f-a6111c6591b8/jgrc23281-fig-0005-m.jpg\" width=\"800\"/>\n",
    "</div>"
   ]
  },
  {
   "cell_type": "markdown",
   "metadata": {},
   "source": [
    "## Vertical structure of classes"
   ]
  },
  {
   "cell_type": "code",
   "execution_count": null,
   "metadata": {},
   "outputs": [],
   "source": [
    "# Compute typical vertical profiles of classes using quantiles:\n",
    "for vname in ['TEMP', 'PSAL']:\n",
    "    ds = ds.pyxpcm.quantile(m, q=[0.05, 0.5, 0.95], of=vname, outname=vname + '_Q', keep_attrs=True, inplace=True)"
   ]
  },
  {
   "cell_type": "code",
   "execution_count": null,
   "metadata": {},
   "outputs": [],
   "source": [
    "ds"
   ]
  },
  {
   "cell_type": "code",
   "execution_count": null,
   "metadata": {},
   "outputs": [],
   "source": [
    "# Plot of vertical profiles:\n",
    "fig, ax = m.plot.quantile(ds['TEMP_Q'], maxcols=4, figsize=(7,7), dpi=120, sharey=True)"
   ]
  },
  {
   "cell_type": "code",
   "execution_count": null,
   "metadata": {},
   "outputs": [],
   "source": [
    "fig, ax = m.plot.quantile(ds['PSAL_Q'], maxcols=4, figsize=(7,7), dpi=120, sharey=True, xlim=[33.5, 36])"
   ]
  },
  {
   "cell_type": "markdown",
   "metadata": {},
   "source": [
    "## T/S diagram colorcoded by classes"
   ]
  },
  {
   "cell_type": "code",
   "execution_count": null,
   "metadata": {},
   "outputs": [],
   "source": [
    "fig, ax = plt.subplots(nrows=1, ncols=1, figsize=(5,5), dpi=120, facecolor='w', edgecolor='k')\n",
    "\n",
    "kmap = m.plot.cmap(name='Set1')\n",
    "this_ds = ds.isel(N_PROF=np.arange(0,1000)) # Sub-sample to make plot faster and more readable\n",
    "labels, b = xr.broadcast(this_ds['PCM_LABELS'], this_ds['TEMP'])\n",
    "ax.scatter(this_ds['PSAL'], this_ds['TEMP'], s=1, c=labels, cmap=kmap, vmin=0, vmax=m.K)\n",
    "ax.grid(True)\n",
    "ax.set_ylabel('Temperature')\n",
    "ax.set_xlabel('Salinity')\n",
    "pyxpcm.plot.colorbar_index(ncolors=m.K, name='Set1', **{**{'fraction':0.03, 'label':'Class'}})\n",
    "ax.set_title( \"LABELS from Argo data classification\\n Based on PCM(K=%i, F=[%s])\" %\n",
    "             (m.K, \",\".join([f for f in m.features.keys()])))\n",
    "plt.show()"
   ]
  },
  {
   "cell_type": "markdown",
   "metadata": {},
   "source": [
    "# Class robustness"
   ]
  },
  {
   "cell_type": "code",
   "execution_count": null,
   "metadata": {},
   "outputs": [],
   "source": [
    "proj = ccrs.PlateCarree(central_longitude=360-60-180)\n",
    "projref =  ccrs.PlateCarree()\n",
    "subplot_kw={'projection': proj, 'extent': np.array([-180,180,-70,-15]) + np.array([-0.1,+0.1,-0.1,+0.1])}\n",
    "fig, ax = plt.subplots(nrows=1, ncols=1, figsize=(10,5), dpi=120, facecolor='w', edgecolor='k', subplot_kw=subplot_kw)\n",
    "\n",
    "cmap = m.plot.cmap(usage='robustness')\n",
    "this_ds = ds.where(ds['PCM_ROBUSTNESS']<0.9)\n",
    "sc = ax.scatter(this_ds['LONGITUDE'], this_ds['LATITUDE'], s=1, c=this_ds['PCM_ROBUSTNESS'], cmap=cmap, transform=projref, vmin=0, vmax=1)\n",
    "\n",
    "boundaries = ds['PCM_ROBUSTNESS_CAT'].attrs['bins']\n",
    "rowl0 = ds['PCM_ROBUSTNESS_CAT'].attrs['legend']\n",
    "norm = mpl.colors.BoundaryNorm(boundaries, cmap.N, clip=True)\n",
    "cl = plt.colorbar(sc, ax=ax, fraction=0.03)\n",
    "for (i,j) in zip(np.arange(0.1,1,1/5), rowl0):\n",
    "    cl.ax.text(2, i, j, ha='left', va='center')\n",
    "\n",
    "orsi_fronts(ax=ax, transform=projref)\n",
    "ax.set_aspect(2)\n",
    "ax.set_extent([-180, 180, -80, -10], projref)\n",
    "# gl = pyxpcm.plot.latlongrid(ax, dx=30, dy=20)\n",
    "ax.add_feature(cfeature.LAND)\n",
    "ax.add_feature(cfeature.COASTLINE)\n",
    "ax.set_title( \"Profiles with poorly robust classification (<0.9) using this model\\n Based on PCM(K=%i, F=[%s])\" %\n",
    "             (m.K, \",\".join([f for f in m.features.keys()])))\n",
    "plt.show()"
   ]
  }
 ],
 "metadata": {
  "kernelspec": {
   "display_name": "Python 3",
   "language": "python",
   "name": "python3"
  },
  "language_info": {
   "codemirror_mode": {
    "name": "ipython",
    "version": 3
   },
   "file_extension": ".py",
   "mimetype": "text/x-python",
   "name": "python",
   "nbconvert_exporter": "python",
   "pygments_lexer": "ipython3",
   "version": "3.6.7"
  }
 },
 "nbformat": 4,
 "nbformat_minor": 4
}
